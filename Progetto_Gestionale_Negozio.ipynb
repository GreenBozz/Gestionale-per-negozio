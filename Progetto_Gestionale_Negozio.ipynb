{
  "nbformat": 4,
  "nbformat_minor": 0,
  "metadata": {
    "colab": {
      "provenance": [],
      "authorship_tag": "ABX9TyNr+LDqcolyi+Np1vK5ew6Y",
      "include_colab_link": true
    },
    "kernelspec": {
      "name": "python3",
      "display_name": "Python 3"
    },
    "language_info": {
      "name": "python"
    }
  },
  "cells": [
    {
      "cell_type": "markdown",
      "metadata": {
        "id": "view-in-github",
        "colab_type": "text"
      },
      "source": [
        "<a href=\"https://colab.research.google.com/github/GreenBozz/Gestionale-per-negozio/blob/main/Progetto_Gestionale_Negozio.ipynb\" target=\"_parent\"><img src=\"https://colab.research.google.com/assets/colab-badge.svg\" alt=\"Open In Colab\"/></a>"
      ]
    },
    {
      "cell_type": "markdown",
      "source": [
        "#Struttura del codice:\n",
        "\n",
        "##Archiviazione delle informazioni:\n",
        "\n",
        "Le informazioni sono da salvarsi in due file di tipo CSV. Conterranno rispettivamente le informazioni sulle scorte presenti in magazzino e le informazioni di contabilitá.\n",
        "\n",
        "##Funzioni dedicate:\n",
        "\n",
        "####Aiuto:\n",
        "\n",
        "Fornisce una lista degli input validi che l'utente puó inserire.\n",
        "\n",
        "####Aggiungi:\n",
        "\n",
        "Aggiunge un item a magazzino.csv, riportandone la quantitá, le informazioni di prezzo d'acquisto e di vendita utili per la gestione della contabilitá da parte di altre funzioni.\n",
        "\n",
        "Se il nome Item é giá presente, chiede all'utente conferma del prezzo di vendita e di acquisto giá inseriti. Se essi sono corretti, aggiorna la numerica. Se essi non sono corretti, richiede all'utente un diverso nome per l'articolo.\n",
        "\n",
        "Inserisce i dati della spesa d'acquisto nella contabilitá.\n",
        "\n",
        "Infine chiede all'utente se vuole aggiungere un altro articolo.\n",
        "\n",
        "####Elenca:\n",
        "\n",
        "Mostra tutti gli articoli in magazzino, con il dettaglio della quantitá disponibile ed il prezzo di vendita.\n",
        "\n",
        "####Vendita:\n",
        "\n",
        "Richiede nome e quantitá della vendita. Verifica se in magazzino ci sono abbastanza pezzi, altrimenti fornisce un alert e chiede di reinserire il valore.\n",
        "\n",
        "Confermato il valore, sottrae dal magazzino gli articoli venduti. Aggiungi l'introito in contabilitá.\n",
        "\n",
        "Chiedi se si vuole vendere un'altro articolo.\n",
        "\n",
        "####Profitti:\n",
        "\n",
        "Fornisce lo stato della contabilitá, fornento profitto lordo e netto\n",
        "\n",
        "####Chiudi:\n",
        "\n",
        "Chiudi il programma."
      ],
      "metadata": {
        "id": "fdGtxKEtHAv1"
      }
    },
    {
      "cell_type": "code",
      "execution_count": null,
      "metadata": {
        "id": "4kC4FU2qG5p2"
      },
      "outputs": [],
      "source": [
        "import json"
      ]
    },
    {
      "cell_type": "markdown",
      "source": [
        "#Struttura database\n",
        "\n",
        "##Descrizione della Struttura del Database\n",
        "\n",
        "La struttura del database proposta si basa su un dizionario Python con due chiavi principali: MAGAZZINO e CONTABILITÀ. La scelta di questa struttura ha come obiettivo quello di ottimizzare l'accesso, la gestione e la modifica delle informazioni, in particolare per quanto riguarda la gestione dell'inventario (MAGAZZINO), rispetto ad approcci tradizionali basati su formati come CSV o TSV.\n",
        "##Dettaglio della Struttura\n",
        "\n",
        "#####**MAGAZZINO**:\n",
        "Il valore associato alla chiave MAGAZZINO è un dizionario, il cui scopo è quello di mappare ogni articolo del magazzino su una voce strutturata come segue:\n",
        "\n",
        "**\"nome_articolo\":  [quantità, prezzo_acquisto_unitario,prezzo_vendita_unitario]**\n",
        "\n",
        "Ogni articolo è quindi una chiave del dizionario, e il valore associato è una lista contenente:\n",
        "\n",
        "* quantità (intero): la quantità disponibile dell'articolo.\n",
        "* prezzo d'acquisto unitario (float): il costo di acquisto per unità dell'articolo.\n",
        "* prezzo di vendita unitario (float): il prezzo a cui l'articolo viene venduto.\n",
        "\n",
        "\n",
        "####**CONTABILITÀ:**\n",
        "Il valore associato alla chiave CONTABILITÀ conterrà informazioni relative agli aspetti contabili del database, come registrazioni delle vendite, acquisti, bilanci, ecc. La struttura esatta del sotto-dizionario dipende dalle esigenze specifiche della contabilità aziendale.\n",
        "\n",
        "##Vantaggi della Struttura Proposta\n",
        "\n",
        "La struttura di database basata su un dizionario Python con due chiavi principali, MAGAZZINO e CONTABILITÀ, è preferibile rispetto a formati tradizionali come CSV e TSV per i seguenti motivi:\n",
        "\n",
        "* **Accesso Diretto:** Il dizionario consente un accesso diretto ai singoli articoli utilizzando la chiave dell'articolo stesso. Questo elimina la necessità di effettuare iterazioni attraverso il database per cercare un articolo specifico, come invece sarebbe richiesto nei formati CSV o TSV, che comportano una ricerca basata su indice o su nome. Ad esempio, per accedere alla quantità di un articolo specifico, basta utilizzare la notazione database[\"magazzino\"][\"nome_articolo\"][0], che è un'operazione in tempo costante O(1).\n",
        "\n",
        "* **Efficienza nelle Operazioni di Modifica:** Le operazioni di aggiornamento delle informazioni, come la modifica della quantità di un articolo, sono estremamente rapide. Modificare il valore associato a una chiave (ad esempio, database[\"magazzino\"][\"nome_articolo\"][0] = nuova_quantità) è un'operazione diretta e veloce, senza la necessità di cercare l'articolo come sarebbe necessario in una struttura CSV o TSV.\n",
        "\n",
        "* **Struttura Chiara e Flessibile:** La struttura del dizionario permette una rappresentazione chiara e ben organizzata delle informazioni, dove ogni articolo è una chiave univoca con un valore strutturato (una lista con la quantità, il prezzo d'acquisto e il prezzo di vendita). Questo facilita la manutenzione del database e l'espansione delle informazioni memorizzate in futuro, se necessario.\n",
        "\n",
        "* **Rappresentazione Semantica:** La struttura del dizionario è auto-descrittiva: la chiave MAGAZZINO è chiaramente legata alla gestione dell'inventario e le chiavi all'interno di essa rappresentano gli articoli, il che semplifica la comprensione del database anche per chi non ha familiarità con il codice. Al contrario, nei formati CSV o TSV, le informazioni devono essere interpretate in base alla posizione delle colonne, il che rende la struttura meno esplicita e meno leggibile.\n",
        "\n"
      ],
      "metadata": {
        "id": "uKmkQ1OLn7bm"
      }
    },
    {
      "cell_type": "code",
      "source": [
        "'''\n",
        "Questa cella contiene l'inizializzazione del database, organizzata come un\n",
        "dizionario.\n",
        "'''\n",
        "database={\n",
        "    \"magazzino\": {\n",
        "        #articoli nel formato chiave: [ quantitá, costo singolo prodotto, prezzo singolo prodotto ]\n",
        "    },\n",
        "\n",
        "    \"contabilitá\":{\n",
        "        \"lordo\": 0,\n",
        "        \"netto\": 0\n",
        "    }\n",
        "}"
      ],
      "metadata": {
        "id": "_oDbPEXhmAwA"
      },
      "execution_count": null,
      "outputs": []
    },
    {
      "cell_type": "code",
      "source": [
        "def aggiungi (database):\n",
        "\n",
        "  articolo = input(\"Inserire nome dell'articolo: \")\n",
        "\n",
        "  if articolo in database[\"magazzino\"].keys():\n",
        "    quantitá, costo, prezzo = database[\"magazzino\"][articolo]\n",
        "    print(f\"Articolo presente in magazzino. \\\n",
        "    \\nQuantitá: {quantitá}\\\n",
        "    \\nPrezzo di acquisto: ${costo}\\\n",
        "    \\nPrezzo di vendita: ${prezzo}\")\n",
        "    try:\n",
        "      aggiunta = int(input(\"Quantitá da aggiungere: \"))\n",
        "      database[\"magazzino\"][articolo][0] += aggiunta\n",
        "      print(f\"Aggiunto {articolo} x {aggiunta}\")\n",
        "    except ValueError:\n",
        "      print(\"Valore non valido\")\n",
        "\n",
        "  else:\n",
        "    try:\n",
        "      quantitá = int(input(\"Quantitá:\"))\n",
        "      costo = float(input(\"Prezzo di acquisto: $\"))\n",
        "      prezzo = float(input(\"Prezzo di vendita: $\"))\n",
        "      database[\"magazzino\"][articolo] = [quantitá, costo, prezzo]\n",
        "      print(f\"Aggiunto {articolo} x {quantitá}\")\n",
        "    except ValueError:\n",
        "      print(\"Valore non valido\")\n",
        "\n",
        "\n",
        "  return database\n"
      ],
      "metadata": {
        "id": "6nErvjy7xqsQ"
      },
      "execution_count": null,
      "outputs": []
    },
    {
      "cell_type": "code",
      "source": [
        "def main ():\n",
        "  '''\n",
        "  Ramo principale del programma, il cui scopo é chiedere all'utente un input\n",
        "  a seconda del quale viene invocata la apposita funzione.\n",
        "  Input accettati sono:\n",
        "    aiuto: elenco input validi\n",
        "\n",
        "  '''\n",
        "\n",
        "  input_validi = [\"aiuto\", \"aggiungi\", \"elenca\", \"vendita\", \"profitti\", \"chiudi\"]\n",
        "\n",
        "  trigger = 1\n",
        "\n",
        "  while trigger:\n",
        "\n",
        "    comando = str.lower(input(\"Inserire comando (aiuto per lista comandi validi):\"))\n",
        "\n",
        "    if comando not in input_validi:\n",
        "      print(\"Comando non valido\")\n",
        "\n",
        "    elif comando == \"chiudi\":\n",
        "      trigger = 0\n",
        "\n",
        "    elif comando == \"aggiungi\":\n",
        "\n",
        "    elif comando == \"elenca\":\n",
        "      pass\n",
        "\n",
        "    elif comando == \"vendita\":\n",
        "      pass\n",
        "\n",
        "    elif comando == \"profitti\":\n",
        "      pass\n"
      ],
      "metadata": {
        "id": "lreZQ9xWS4a0"
      },
      "execution_count": null,
      "outputs": []
    },
    {
      "cell_type": "code",
      "source": [
        "main()"
      ],
      "metadata": {
        "colab": {
          "base_uri": "https://localhost:8080/"
        },
        "id": "Legotyo_UANf",
        "outputId": "16be324c-db16-43e9-c26b-8b4b77ac36e1"
      },
      "execution_count": null,
      "outputs": [
        {
          "name": "stdout",
          "output_type": "stream",
          "text": [
            "Inserire comando (aiuto per lista comandi validi):otto\n",
            "Comando non valido\n",
            "Inserire comando (aiuto per lista comandi validi):chiudi\n"
          ]
        }
      ]
    },
    {
      "cell_type": "code",
      "source": [
        "aggiungi(database)"
      ],
      "metadata": {
        "colab": {
          "base_uri": "https://localhost:8080/"
        },
        "id": "6U8Q8D9Ld5r3",
        "outputId": "26a13d2b-f1fd-424d-b180-6b27cd659f69"
      },
      "execution_count": null,
      "outputs": [
        {
          "output_type": "stream",
          "name": "stdout",
          "text": [
            "Inserire nome dell'articolo: pane\n",
            "Quantitá:3\n",
            "Prezzo di acquisto: $0.5\n",
            "Prezzo di vendita: $1.0\n",
            "Aggiunto pane x 3\n"
          ]
        },
        {
          "output_type": "execute_result",
          "data": {
            "text/plain": [
              "{'magazzino': {'seitan': [7, 50, 70], 'pane': [3, 0.5, 1.0]},\n",
              " 'contabilitá': {'lordo': 0, 'netto': 0}}"
            ]
          },
          "metadata": {},
          "execution_count": 63
        }
      ]
    },
    {
      "cell_type": "code",
      "source": [
        "1trigger.lower()"
      ],
      "metadata": {
        "colab": {
          "base_uri": "https://localhost:8080/",
          "height": 38
        },
        "id": "gAwW0dBKd7D7",
        "outputId": "a189c153-7e23-4bdf-cde6-f1b08c8cd719"
      },
      "execution_count": null,
      "outputs": [
        {
          "output_type": "execute_result",
          "data": {
            "text/plain": [
              "'test'"
            ],
            "application/vnd.google.colaboratory.intrinsic+json": {
              "type": "string"
            }
          },
          "metadata": {},
          "execution_count": 28
        }
      ]
    },
    {
      "cell_type": "code",
      "source": [
        "trigger"
      ],
      "metadata": {
        "colab": {
          "base_uri": "https://localhost:8080/",
          "height": 38
        },
        "id": "lW3FzGK2fw2M",
        "outputId": "6f73c22a-dd7f-4509-96cf-eacec90b7589"
      },
      "execution_count": null,
      "outputs": [
        {
          "output_type": "execute_result",
          "data": {
            "text/plain": [
              "'test'"
            ],
            "application/vnd.google.colaboratory.intrinsic+json": {
              "type": "string"
            }
          },
          "metadata": {},
          "execution_count": 32
        }
      ]
    },
    {
      "cell_type": "code",
      "source": [],
      "metadata": {
        "id": "jbFucX83f9q_"
      },
      "execution_count": null,
      "outputs": []
    }
  ]
}