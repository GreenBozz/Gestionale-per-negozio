{
  "nbformat": 4,
  "nbformat_minor": 0,
  "metadata": {
    "colab": {
      "provenance": [],
      "authorship_tag": "ABX9TyNpyGBbAQVZxJH/LQloC2MF",
      "include_colab_link": true
    },
    "kernelspec": {
      "name": "python3",
      "display_name": "Python 3"
    },
    "language_info": {
      "name": "python"
    }
  },
  "cells": [
    {
      "cell_type": "markdown",
      "metadata": {
        "id": "view-in-github",
        "colab_type": "text"
      },
      "source": [
        "<a href=\"https://colab.research.google.com/github/GreenBozz/Gestionale-per-negozio/blob/main/Progetto_Gestionale_Negozio.ipynb\" target=\"_parent\"><img src=\"https://colab.research.google.com/assets/colab-badge.svg\" alt=\"Open In Colab\"/></a>"
      ]
    },
    {
      "cell_type": "markdown",
      "source": [
        "#Struttura del codice:\n",
        "\n",
        "##Archiviazione delle informazioni:\n",
        "\n",
        "Le informazioni sono da in un file JSON. Conterrá le informazioni sulle scorte presenti in magazzino e le informazioni di contabilitá.\n",
        "\n",
        "##Funzioni dedicate:\n",
        "\n",
        "####Aiuto:\n",
        "\n",
        "Fornisce una lista degli input validi che l'utente puó inserire.\n",
        "\n",
        "####Aggiungi:\n",
        "\n",
        "Aggiunge un item a magazzino.csv, riportandone la quantitá, le informazioni di prezzo d'acquisto e di vendita utili per la gestione della contabilitá da parte di altre funzioni.\n",
        "\n",
        "Se il nome Item é giá presente, chiede all'utente conferma del prezzo di vendita e di acquisto giá inseriti. Se essi sono corretti, aggiorna la numerica. Se essi non sono corretti, richiede all'utente un diverso nome per l'articolo.\n",
        "\n",
        "Inserisce i dati della spesa d'acquisto nella contabilitá.\n",
        "\n",
        "Infine chiede all'utente se vuole aggiungere un altro articolo.\n",
        "\n",
        "####Elenca:\n",
        "\n",
        "Mostra tutti gli articoli in magazzino, con il dettaglio della quantitá disponibile ed il prezzo di vendita.\n",
        "\n",
        "####Vendita:\n",
        "\n",
        "Richiede nome e quantitá della vendita. Verifica se in magazzino ci sono abbastanza pezzi, altrimenti fornisce un alert e chiede di reinserire il valore.\n",
        "\n",
        "Confermato il valore, sottrae dal magazzino gli articoli venduti. Aggiungi l'introito in contabilitá.\n",
        "\n",
        "Chiedi se si vuole vendere un'altro articolo.\n",
        "\n",
        "####Profitti:\n",
        "\n",
        "Fornisce lo stato della contabilitá, fornento profitto lordo e netto\n",
        "\n",
        "####Chiudi:\n",
        "\n",
        "Chiudi il programma."
      ],
      "metadata": {
        "id": "fdGtxKEtHAv1"
      }
    },
    {
      "cell_type": "markdown",
      "source": [
        "#Struttura database\n",
        "\n",
        "##Descrizione della Struttura del Database\n",
        "\n",
        "La struttura del database proposta si basa su un dizionario Python con due chiavi principali: MAGAZZINO e CONTABILITÀ. La scelta di questa struttura ha come obiettivo quello di ottimizzare l'accesso, la gestione e la modifica delle informazioni, in particolare per quanto riguarda la gestione dell'inventario (MAGAZZINO), rispetto ad approcci tradizionali basati su formati come CSV o TSV.\n",
        "##Dettaglio della Struttura\n",
        "\n",
        "#####**MAGAZZINO**:\n",
        "Il valore associato alla chiave MAGAZZINO è un dizionario, il cui scopo è quello di mappare ogni articolo del magazzino su una voce strutturata come segue:\n",
        "\n",
        "**\"nome_articolo\":  [quantità, prezzo_acquisto_unitario,prezzo_vendita_unitario]**\n",
        "\n",
        "Ogni articolo è quindi una chiave del dizionario, e il valore associato è una lista contenente:\n",
        "\n",
        "* quantità (intero): la quantità disponibile dell'articolo.\n",
        "* prezzo d'acquisto unitario (float): il costo di acquisto per unità dell'articolo.\n",
        "* prezzo di vendita unitario (float): il prezzo a cui l'articolo viene venduto.\n",
        "\n",
        "\n",
        "####**CONTABILITÀ:**\n",
        "Il valore associato alla chiave CONTABILITÀ conterrà informazioni relative agli aspetti contabili del database, come registrazioni delle vendite, acquisti, bilanci, ecc. La struttura esatta del sotto-dizionario dipende dalle esigenze specifiche della contabilità aziendale.\n",
        "\n",
        "##Vantaggi della Struttura Proposta\n",
        "\n",
        "La struttura di database basata su un dizionario Python con due chiavi principali, MAGAZZINO e CONTABILITÀ, è preferibile rispetto a formati tradizionali come CSV e TSV per i seguenti motivi:\n",
        "\n",
        "* **Accesso Diretto:** Il dizionario consente un accesso diretto ai singoli articoli utilizzando la chiave dell'articolo stesso. Questo elimina la necessità di effettuare iterazioni attraverso il database per cercare un articolo specifico, come invece sarebbe richiesto nei formati CSV o TSV, che comportano una ricerca basata su indice o su nome. Ad esempio, per accedere alla quantità di un articolo specifico, basta utilizzare la notazione database[\"magazzino\"][\"nome_articolo\"][0], che è un'operazione in tempo costante O(1).\n",
        "\n",
        "* **Efficienza nelle Operazioni di Modifica:** Le operazioni di aggiornamento delle informazioni, come la modifica della quantità di un articolo, sono estremamente rapide. Modificare il valore associato a una chiave (ad esempio, database[\"magazzino\"][\"nome_articolo\"][0] = nuova_quantità) è un'operazione diretta e veloce, senza la necessità di cercare l'articolo come sarebbe necessario in una struttura CSV o TSV.\n",
        "\n",
        "* **Struttura Chiara e Flessibile:** La struttura del dizionario permette una rappresentazione chiara e ben organizzata delle informazioni, dove ogni articolo è una chiave univoca con un valore strutturato (una lista con la quantità, il prezzo d'acquisto e il prezzo di vendita). Questo facilita la manutenzione del database e l'espansione delle informazioni memorizzate in futuro, se necessario.\n",
        "\n",
        "* **Rappresentazione Semantica:** La struttura del dizionario è auto-descrittiva: la chiave MAGAZZINO è chiaramente legata alla gestione dell'inventario e le chiavi all'interno di essa rappresentano gli articoli, il che semplifica la comprensione del database anche per chi non ha familiarità con il codice. Al contrario, nei formati CSV o TSV, le informazioni devono essere interpretate in base alla posizione delle colonne, il che rende la struttura meno esplicita e meno leggibile.\n",
        "\n"
      ],
      "metadata": {
        "id": "uKmkQ1OLn7bm"
      }
    },
    {
      "cell_type": "code",
      "source": [
        "import json"
      ],
      "metadata": {
        "id": "XT7G6vvZA74N"
      },
      "execution_count": 47,
      "outputs": []
    },
    {
      "cell_type": "code",
      "source": [
        "'''\n",
        "Questa cella contiene l'inizializzazione del database, organizzata come un\n",
        "dizionario e descritta nel dettaglio sopra\n",
        "'''\n",
        "\n",
        "database={\n",
        "    \"magazzino\": {\n",
        "        #articoli nel formato chiave: [ quantitá, costo singolo prodotto, prezzo singolo prodotto ]\n",
        "    },\n",
        "\n",
        "    \"contabilitá\":{\n",
        "        \"lordo\": 0,\n",
        "        \"netto\": 0\n",
        "    }\n",
        "}\n",
        "\n",
        "with open (\"database.json\") as file_dati:\n",
        "  file_dati.write(database)"
      ],
      "metadata": {
        "id": "_oDbPEXhmAwA"
      },
      "execution_count": 26,
      "outputs": []
    },
    {
      "cell_type": "code",
      "source": [
        "def aggiungi (database):\n",
        "  '''\n",
        "  Questa funzione permette di aggiungere o aggiornare articoli nel magazzino.\n",
        "\n",
        "  Accetta come input un dizionario con la seguente struttura:\n",
        "  Database = {\n",
        "      \"magazzino\":{\n",
        "          \"nome_articolo\": [quantità, prezzo_acquisto, prezzo_vendita]\n",
        "      },\n",
        "      \"contabilitá\": {\n",
        "          \"lordo\": 0,\n",
        "          \"netto\": 0\n",
        "      }\n",
        "  }\n",
        "  La funzione segue questo flusso operativo:\n",
        "  1. Chiede all'utente di inserire il nome dell'articolo.\n",
        "  2. Verifica se l'articolo è già presente nel magazzino.\n",
        "    - Se l'articolo esiste:\n",
        "      - Chiede le informazioni necessarie per aggiornare quantità e prezzi.\n",
        "    - Se l'articolo non esiste:\n",
        "      - Aggiunge una nuova voce al magazzino con le informazioni fornite dall'utente.\n",
        "  3. Aggiorna i dati del magazzino nel dizionario `Database`.\n",
        "  4. Aggiunge le spese d'acquisto totali in netto come valore negativo.\n",
        "  '''\n",
        "\n",
        "  articolo = str.lower(input(\"Inserire nome dell'articolo: \"))\n",
        "\n",
        "  if articolo in database[\"magazzino\"].keys():\n",
        "    quantitá, costo, prezzo = database[\"magazzino\"][articolo]\n",
        "    print(f\"Articolo presente in magazzino. \\\n",
        "    \\nQuantitá: {quantitá}\\\n",
        "    \\nPrezzo di acquisto: ${costo}\\\n",
        "    \\nPrezzo di vendita: ${prezzo}\")\n",
        "    try:\n",
        "      aggiunta = int(input(\"Quantitá da aggiungere: \"))\n",
        "      database[\"magazzino\"][articolo][0] += aggiunta\n",
        "      print(f\"Aggiunto {articolo} x {aggiunta}\")\n",
        "    except ValueError:\n",
        "      print(\"Valore non valido\")\n",
        "\n",
        "  else:\n",
        "    try:\n",
        "      quantitá = int(input(\"Quantitá:\"))\n",
        "      costo = round(float(input(\"Prezzo di acquisto: $\")),2)\n",
        "      prezzo = round(float(input(\"Prezzo di vendita: $\")),2)\n",
        "      database[\"magazzino\"][articolo] = [quantitá, costo, prezzo]\n",
        "      print(f\"Aggiunto {articolo} x {quantitá}\")\n",
        "    except ValueError:\n",
        "      print(\"Valore non valido\")\n",
        "\n",
        "  database[\"contabilitá\"][\"netto\"] -= costo*quantitá\n",
        "\n",
        "\n",
        "  return database\n"
      ],
      "metadata": {
        "id": "6nErvjy7xqsQ"
      },
      "execution_count": 25,
      "outputs": []
    },
    {
      "cell_type": "code",
      "source": [
        "def elenca (database):\n",
        "  '''\n",
        "  Questa funzione permette la visualizzazione di tutte le voci presenti\n",
        "  in magazzino.\n",
        "  La funzione opera iterando sulle chiavi presenti in database[\"magazzino\"].\n",
        "  Per ogniuna viene stampato nome articolo, quantitá e prezzo di vendita.\n",
        "  '''\n",
        "\n",
        "  lista_articoli=database[\"magazzino\"].keys()\n",
        "\n",
        "  if not len(lista_articoli):\n",
        "    print(\"Magazzino vuoto\")\n",
        "  else:\n",
        "    print(\"%-15s%-15s%-15s\" % (\"ARTICOLO\", \"QUANTITÁ\", \"PREZZO\") )\n",
        "    for articolo in lista_articoli:\n",
        "      quantitá, costo, prezzo = database[\"magazzino\"][articolo]\n",
        "      print(\"%-15s%-15i%-15.2f\" % (articolo, quantitá, prezzo))\n",
        "\n",
        "  return\n",
        "\n"
      ],
      "metadata": {
        "id": "_OhDB6utvOiB"
      },
      "execution_count": 42,
      "outputs": []
    },
    {
      "cell_type": "code",
      "source": [
        "def main ():\n",
        "  '''\n",
        "  Ramo principale del programma, progettato per caricare le informazioni salvate\n",
        "  e consentire all'utente di accedere a diverse funzionalità.\n",
        "\n",
        "  Input accettati:\n",
        "\n",
        "    aiuto: Mostra l'elenco completo dei comandi disponibili e la loro descrizione.\n",
        "    aggiungi: Consente di aggiungere nuovi articoli al magazzino o aggiornare quelli esistenti.\n",
        "    elenca: Visualizza il contenuto attuale del magazzino, con dettagli sugli articoli.\n",
        "    vendita: Registra la vendita di uno o più articoli, aggiornando quantità e contabilità.\n",
        "    profitti: Mostra un riepilogo dei profitti, suddiviso in lordo e netto.\n",
        "    chiudi: Termina il programma, salvando eventuali modifiche apportate al magazzino e alla contabilità.\n",
        "  '''\n",
        "\n",
        "  with open(database.json, \"w+\") as file_dati:\n",
        "    database = file_dati.\n",
        "\n",
        "  input_validi = [\"aiuto\", \"aggiungi\", \"elenca\", \"vendita\", \"profitti\", \"chiudi\"]\n",
        "\n",
        "  trigger = 1\n",
        "\n",
        "  while trigger:\n",
        "\n",
        "    comando = str.lower(input(\"Inserire comando (aiuto per lista comandi validi):\"))\n",
        "\n",
        "    if comando not in input_validi:\n",
        "      print(\"Comando non valido\")\n",
        "\n",
        "    elif comando == \"chiudi\":\n",
        "      trigger = 0\n",
        "\n",
        "    elif comando == \"aggiungi\":\n",
        "      aggiungi(database)\n",
        "\n",
        "    elif comando == \"elenca\":\n",
        "      elenca (database)\n",
        "\n",
        "    elif comando == \"vendita\":\n",
        "      pass\n",
        "\n",
        "    elif comando == \"profitti\":\n",
        "      pass\n"
      ],
      "metadata": {
        "id": "lreZQ9xWS4a0"
      },
      "execution_count": 36,
      "outputs": []
    },
    {
      "cell_type": "code",
      "source": [
        "main()"
      ],
      "metadata": {
        "colab": {
          "base_uri": "https://localhost:8080/"
        },
        "id": "Legotyo_UANf",
        "outputId": "702f04b8-2783-40d1-ea89-38d133421175"
      },
      "execution_count": 43,
      "outputs": [
        {
          "name": "stdout",
          "output_type": "stream",
          "text": [
            "Inserire comando (aiuto per lista comandi validi):elenca\n",
            "ARTICOLO       QUANTITÁ       PREZZO         \n",
            "seitan         20             3.20           \n",
            "pane           30             1.20           \n",
            "mele           12             0.60           \n",
            "Inserire comando (aiuto per lista comandi validi):chiudi\n"
          ]
        }
      ]
    },
    {
      "cell_type": "code",
      "source": [
        "database[\"contabilitá\"]"
      ],
      "metadata": {
        "id": "jbFucX83f9q_",
        "colab": {
          "base_uri": "https://localhost:8080/"
        },
        "outputId": "b6e95214-b7a7-47a0-f94b-ed1228fa5a44"
      },
      "execution_count": 30,
      "outputs": [
        {
          "output_type": "execute_result",
          "data": {
            "text/plain": [
              "{'lordo': 0, 'netto': -66.4}"
            ]
          },
          "metadata": {},
          "execution_count": 30
        }
      ]
    },
    {
      "cell_type": "code",
      "source": [
        "with open (\"database.json\", \"w+\") as file_dati:\n",
        "  database_str = json.dumps(database)\n",
        "  file_dati.write(database_str)"
      ],
      "metadata": {
        "id": "HcuUWcv40yC6"
      },
      "execution_count": 49,
      "outputs": []
    },
    {
      "cell_type": "code",
      "source": [],
      "metadata": {
        "id": "IJ5NXGP2AmyF"
      },
      "execution_count": null,
      "outputs": []
    }
  ]
}