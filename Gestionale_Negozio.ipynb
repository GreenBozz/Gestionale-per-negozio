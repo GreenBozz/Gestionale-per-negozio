{
  "nbformat": 4,
  "nbformat_minor": 0,
  "metadata": {
    "colab": {
      "provenance": [],
      "mount_file_id": "10mvOoFL_pcvn6IpSB4y8IxeUfsLQWccY",
      "authorship_tag": "ABX9TyNv+VqBsEBYVVJJ/++BSq8c",
      "include_colab_link": true
    },
    "kernelspec": {
      "name": "python3",
      "display_name": "Python 3"
    },
    "language_info": {
      "name": "python"
    }
  },
  "cells": [
    {
      "cell_type": "markdown",
      "metadata": {
        "id": "view-in-github",
        "colab_type": "text"
      },
      "source": [
        "<a href=\"https://colab.research.google.com/github/GreenBozz/Gestionale-per-negozio/blob/main/Gestionale_Negozio.ipynb\" target=\"_parent\"><img src=\"https://colab.research.google.com/assets/colab-badge.svg\" alt=\"Open In Colab\"/></a>"
      ]
    },
    {
      "cell_type": "markdown",
      "source": [
        "#Struttura del codice:\n",
        "\n",
        "##Archiviazione delle informazioni:\n",
        "\n",
        "Le informazioni sono da in un file JSON. Conterrá le informazioni sulle scorte presenti in magazzino e le informazioni di contabilitá.\n",
        "\n",
        "##Funzioni dedicate:\n",
        "\n",
        "####Aiuto:\n",
        "\n",
        "Fornisce una lista degli input validi che l'utente puó inserire.\n",
        "\n",
        "####Aggiungi:\n",
        "\n",
        "Aggiunge un item a magazzino.csv, riportandone la quantitá, le informazioni di prezzo d'acquisto e di vendita utili per la gestione della contabilitá da parte di altre funzioni.\n",
        "\n",
        "Se il nome Item é giá presente, chiede all'utente conferma del prezzo di vendita e di acquisto giá inseriti. Se essi sono corretti, aggiorna la numerica. Se essi non sono corretti, richiede all'utente un diverso nome per l'articolo.\n",
        "\n",
        "Inserisce i dati della spesa d'acquisto nella contabilitá.\n",
        "\n",
        "Infine chiede all'utente se vuole aggiungere un altro articolo.\n",
        "\n",
        "####Elenca:\n",
        "\n",
        "Mostra tutti gli articoli in magazzino, con il dettaglio della quantitá disponibile ed il prezzo di vendita.\n",
        "\n",
        "####Vendita:\n",
        "\n",
        "Richiede nome e quantitá della vendita. Verifica se in magazzino ci sono abbastanza pezzi, altrimenti fornisce un alert e chiede di reinserire il valore.\n",
        "\n",
        "Confermato il valore, sottrae dal magazzino gli articoli venduti. Aggiungi l'introito in contabilitá.\n",
        "\n",
        "Chiedi se si vuole vendere un'altro articolo.\n",
        "\n",
        "####Profitti:\n",
        "\n",
        "Fornisce lo stato della contabilitá, fornento profitto lordo e netto\n",
        "\n",
        "####Chiudi:\n",
        "\n",
        "Chiudi il programma."
      ],
      "metadata": {
        "id": "fdGtxKEtHAv1"
      }
    },
    {
      "cell_type": "markdown",
      "source": [
        "#Struttura database\n",
        "\n",
        "##Descrizione della Struttura del Database\n",
        "\n",
        "La struttura del database proposta si basa su un dizionario Python con due chiavi principali: MAGAZZINO e CONTABILITÀ. La scelta di questa struttura ha come obiettivo quello di ottimizzare l'accesso, la gestione e la modifica delle informazioni, in particolare per quanto riguarda la gestione dell'inventario (MAGAZZINO), rispetto ad approcci tradizionali basati su formati come CSV o TSV.\n",
        "##Dettaglio della Struttura\n",
        "\n",
        "#####**MAGAZZINO**:\n",
        "Il valore associato alla chiave MAGAZZINO è un dizionario, il cui scopo è quello di mappare ogni articolo del magazzino su una voce strutturata come segue:\n",
        "\n",
        "**\"nome_articolo\":  [quantità, prezzo_acquisto_unitario,prezzo_vendita_unitario]**\n",
        "\n",
        "Ogni articolo è quindi una chiave del dizionario, e il valore associato è una lista contenente:\n",
        "\n",
        "* quantità (intero): la quantità disponibile dell'articolo.\n",
        "* prezzo d'acquisto unitario (float): il costo di acquisto per unità dell'articolo.\n",
        "* prezzo di vendita unitario (float): il prezzo a cui l'articolo viene venduto.\n",
        "\n",
        "\n",
        "####**CONTABILITÀ:**\n",
        "Il valore associato alla chiave CONTABILITÀ conterrà informazioni relative agli aspetti contabili del database, come registrazioni delle vendite, acquisti, bilanci, ecc. La struttura esatta del sotto-dizionario dipende dalle esigenze specifiche della contabilità aziendale.\n",
        "\n",
        "##Vantaggi della Struttura Proposta\n",
        "\n",
        "La struttura di database basata su un dizionario Python con due chiavi principali, MAGAZZINO e CONTABILITÀ, è preferibile rispetto a formati tradizionali come CSV e TSV per i seguenti motivi:\n",
        "\n",
        "* **Accesso Diretto:** Il dizionario consente un accesso diretto ai singoli articoli utilizzando la chiave dell'articolo stesso. Questo elimina la necessità di effettuare iterazioni attraverso il database per cercare un articolo specifico, come invece sarebbe richiesto nei formati CSV o TSV, che comportano una ricerca basata su indice o su nome. Ad esempio, per accedere alla quantità di un articolo specifico, basta utilizzare la notazione database[\"magazzino\"][\"nome_articolo\"][0], che è un'operazione in tempo costante O(1).\n",
        "\n",
        "* **Efficienza nelle Operazioni di Modifica:** Le operazioni di aggiornamento delle informazioni, come la modifica della quantità di un articolo, sono estremamente rapide. Modificare il valore associato a una chiave (ad esempio, database[\"magazzino\"][\"nome_articolo\"][0] = nuova_quantità) è un'operazione diretta e veloce, senza la necessità di cercare l'articolo come sarebbe necessario in una struttura CSV o TSV.\n",
        "\n",
        "* **Struttura Chiara e Flessibile:** La struttura del dizionario permette una rappresentazione chiara e ben organizzata delle informazioni, dove ogni articolo è una chiave univoca con un valore strutturato (una lista con la quantità, il prezzo d'acquisto e il prezzo di vendita). Questo facilita la manutenzione del database e l'espansione delle informazioni memorizzate in futuro, se necessario.\n",
        "\n",
        "* **Rappresentazione Semantica:** La struttura del dizionario è auto-descrittiva: la chiave MAGAZZINO è chiaramente legata alla gestione dell'inventario e le chiavi all'interno di essa rappresentano gli articoli, il che semplifica la comprensione del database anche per chi non ha familiarità con il codice. Al contrario, nei formati CSV o TSV, le informazioni devono essere interpretate in base alla posizione delle colonne, il che rende la struttura meno esplicita e meno leggibile.\n",
        "\n"
      ],
      "metadata": {
        "id": "uKmkQ1OLn7bm"
      }
    },
    {
      "cell_type": "code",
      "source": [
        "import json"
      ],
      "metadata": {
        "id": "XT7G6vvZA74N"
      },
      "execution_count": null,
      "outputs": []
    },
    {
      "cell_type": "code",
      "source": [
        "'''\n",
        "Questa cella contiene l'inizializzazione del database, organizzata come un\n",
        "dizionario e descritta nel dettaglio sopra\n",
        "'''\n",
        "\n",
        "database={\n",
        "    \"magazzino\": {\n",
        "        #articoli nel formato chiave: [ quantitá, costo singolo prodotto, prezzo singolo prodotto ]\n",
        "    },\n",
        "\n",
        "    \"contabilitá\":{\n",
        "        \"lordo\": 0,\n",
        "        \"netto\": 0\n",
        "    }\n",
        "}\n",
        "\n",
        "with open (\"/content/drive/MyDrive/Colab Notebooks/Progetto 1/database.json\", \"w+\") \\\n",
        "as file_dati:\n",
        "  json.dump(database, file_dati, indent=3)"
      ],
      "metadata": {
        "id": "_oDbPEXhmAwA"
      },
      "execution_count": 58,
      "outputs": []
    },
    {
      "cell_type": "code",
      "source": [
        "def aggiungi (database):\n",
        "  '''\n",
        "  Questa funzione permette di aggiungere o aggiornare articoli nel magazzino.\n",
        "\n",
        "  Accetta come input un dizionario con la seguente struttura:\n",
        "  Database = {\n",
        "      \"magazzino\":{\n",
        "          \"nome_articolo\": [quantità, prezzo_acquisto, prezzo_vendita]\n",
        "      },\n",
        "      \"contabilitá\": {\n",
        "          \"lordo\": ,\n",
        "          \"netto\":\n",
        "      }\n",
        "  }\n",
        "  La funzione segue questo flusso operativo:\n",
        "  1. Chiede all'utente di inserire il nome dell'articolo.\n",
        "  2. Verifica se l'articolo è già presente nel magazzino.\n",
        "    - Se l'articolo esiste:\n",
        "      - Chiede le informazioni necessarie per aggiornare quantità e prezzi.\n",
        "    - Se l'articolo non esiste:\n",
        "      - Aggiunge una nuova voce al magazzino con le informazioni fornite dall'utente.\n",
        "  3. Aggiorna i dati del magazzino nel dizionario `Database`.\n",
        "  '''\n",
        "\n",
        "  articolo = str.lower(input(\"Inserire nome dell'articolo: \"))\n",
        "\n",
        "  if articolo in database[\"magazzino\"].keys():\n",
        "    quantitá, costo, prezzo = database[\"magazzino\"][articolo]\n",
        "    print(f\"Articolo presente in magazzino. \\\n",
        "    \\nQuantitá: {quantitá}\\\n",
        "    \\nPrezzo di acquisto: € {costo}\\\n",
        "    \\nPrezzo di vendita: € {prezzo}\")\n",
        "    try:\n",
        "      aggiunta = int(input(\"Quantitá da aggiungere: \"))\n",
        "      database[\"magazzino\"][articolo][0] += aggiunta\n",
        "      print(f\"Aggiunto {articolo} x {aggiunta}\")\n",
        "    except ValueError:\n",
        "      print(\"Valore non valido\")\n",
        "\n",
        "  else:\n",
        "    try:\n",
        "      quantitá = int(input(\"Quantitá:\"))\n",
        "      costo = round(float(input(\"Prezzo di acquisto: € \")),2)\n",
        "      prezzo = round(float(input(\"Prezzo di vendita: € \")),2)\n",
        "      database[\"magazzino\"][articolo] = [quantitá, costo, prezzo]\n",
        "      print(f\"Aggiunto {articolo} x {quantitá}\")\n",
        "    except ValueError:\n",
        "      print(\"Valore non valido\")\n",
        "\n",
        "  #database[\"contabilitá\"][\"netto\"] -= costo*quantitá non puó essere inserita qui\n",
        "  #va ripetuta in entramb i try, altrimenti il programma prova ad eseguire la\n",
        "  #modifica al database anche in caso di ValueError.\n",
        "\n",
        "\n",
        "  return\n"
      ],
      "metadata": {
        "id": "6nErvjy7xqsQ"
      },
      "execution_count": 61,
      "outputs": []
    },
    {
      "cell_type": "code",
      "source": [
        "def elenca (database):\n",
        "  '''\n",
        "  Questa funzione permette la visualizzazione di tutte le voci presenti\n",
        "  in magazzino.\n",
        "  La funzione opera iterando sulle chiavi presenti in database[\"magazzino\"].\n",
        "  Per ogniuna viene stampato nome articolo, quantitá e prezzo di vendita.\n",
        "  '''\n",
        "\n",
        "  lista_articoli=database[\"magazzino\"].keys()\n",
        "\n",
        "  if not len(lista_articoli):\n",
        "    print(\"Magazzino vuoto\")\n",
        "  else:\n",
        "    print(\"%-30s%-15s%-15s\" % (\"ARTICOLO\", \"QUANTITÁ\", \"PREZZO\") )\n",
        "    for articolo in lista_articoli:\n",
        "      quantitá, costo, prezzo = database[\"magazzino\"][articolo]\n",
        "      print(\"%-30s%-15i€ %-15.2f\" % (articolo, quantitá, prezzo))\n",
        "\n",
        "  return\n",
        "\n"
      ],
      "metadata": {
        "id": "_OhDB6utvOiB"
      },
      "execution_count": null,
      "outputs": []
    },
    {
      "cell_type": "code",
      "source": [
        "def vendita (database):\n",
        "\n",
        "  trigger = \"Y\"\n",
        "  #inizializza un dizionario temporaneo per i dati della sessione di vendita\n",
        "  temp = {}\n",
        "\n",
        "  while trigger == \"Y\":\n",
        "\n",
        "    articolo = input(\"Nome dell'articolo: \")\n",
        "\n",
        "    #Verifica l'eventuale assenza dal magazzino\n",
        "    if articolo not in database[\"magazzino\"].keys():\n",
        "      print(\"Articolo non presente in magazzino.\")\n",
        "      continue\n",
        "\n",
        "    else:\n",
        "      try:\n",
        "        #Se l'articolo non é giá stato comprato durante la sessione inizializza a zero\n",
        "        if articolo not in temp.keys():\n",
        "          temp[articolo]=0\n",
        "\n",
        "        quantitá = int(input(\"Quantitá: \"))\n",
        "\n",
        "        #Verifica se ci sono abbastanza articoli in magazzino.\n",
        "        #se si, aggiorna l'archivio temporaneo e il magazzino\n",
        "        while database[\"magazzino\"][articolo][0] < quantitá:\n",
        "          print(f\"Articoli insufficenti in magazzino.\")\n",
        "          quantitá = int(input(\"Quantitá: \"))\n",
        "\n",
        "        else:\n",
        "          temp[articolo] += quantitá\n",
        "          #aggiorna il database:\n",
        "          database[\"magazzino\"][articolo][0] -= quantitá\n",
        "\n",
        "      except ValueError:\n",
        "        print(\"Valore non valido.\")\n",
        "\n",
        "      #Verifica se la sessione d'acquisto é terminata\n",
        "      trigger = str.upper(input(\"Aggiungere un altro prodotto? [Y/N]: \"))\n",
        "      while trigger not in [\"Y\", \"N\"]:\n",
        "        trigger = str.upper(input(\"Input non valido.\\nAggiungere un altro prodotto? [Y/N]: \"))\n",
        "\n",
        "  print(\"\\nVENDITA REGISTRATA\")\n",
        "  vendita_lorda = 0\n",
        "  costi_approvigionamento = 0\n",
        "  #la variabile  costi_approvigionamento registra la spesa sostenuta dal commerciante, necessaria al calcolo dei profitti netti\n",
        "\n",
        "  for acquisto in temp.keys():\n",
        "    conto = temp[acquisto]*database[\"magazzino\"][acquisto][2]\n",
        "    vendita_lorda += conto\n",
        "    costi_approvigionamento += temp[acquisto]*database[\"magazzino\"][acquisto][1]\n",
        "\n",
        "    print(\"- %i x %s: € %.2f\" % (temp[acquisto], acquisto, conto))\n",
        "\n",
        "\n",
        "  print(\"TOTALE: € %.2f\" % vendita_lorda)\n",
        "  database[\"contabilitá\"][\"lordo\"] += round(vendita_lorda,2)\n",
        "  database[\"contabilitá\"][\"netto\"] += round(vendita_lorda - costi_approvigionamento,2)\n",
        "\n",
        "  return\n",
        "\n"
      ],
      "metadata": {
        "id": "-IvHZgP3N1b1"
      },
      "execution_count": 77,
      "outputs": []
    },
    {
      "cell_type": "code",
      "source": [
        "def profitti (database):\n",
        "  '''\n",
        "  Funzione con lo scopo di stampare i dati contabili totali, con il discrimine di netto e lordo\n",
        "  '''\n",
        "  print(f\"Profitto: lordo= € {database['contabilitá']['lordo']} netto= € {database['contabilitá']['netto']}\")\n"
      ],
      "metadata": {
        "id": "MmzNtVrEmbz1"
      },
      "execution_count": 75,
      "outputs": []
    },
    {
      "cell_type": "code",
      "source": [
        "def main ():\n",
        "  '''\n",
        "  Ramo principale del programma, progettato per caricare le informazioni salvate\n",
        "  e consentire all'utente di accedere a diverse funzionalità.\n",
        "\n",
        "  Input accettati:\n",
        "\n",
        "    aiuto: Mostra l'elenco completo dei comandi disponibili e la loro descrizione.\n",
        "    aggiungi: Consente di aggiungere nuovi articoli al magazzino o aggiornare quelli esistenti.\n",
        "    elenca: Visualizza il contenuto attuale del magazzino, con dettagli sugli articoli.\n",
        "    vendita: Registra la vendita di uno o più articoli, aggiornando quantità e contabilità.\n",
        "    profitti: Mostra un riepilogo dei profitti, suddiviso in lordo e netto.\n",
        "    chiudi: Termina il programma, salvando eventuali modifiche apportate al magazzino e alla contabilità.\n",
        "  '''\n",
        "\n",
        "  with open(\"/content/drive/MyDrive/Colab Notebooks/Progetto 1/database.json\", \"r\") as file_dati:\n",
        "    database = json.load(file_dati)\n",
        "\n",
        "  input_validi = [\"aiuto\", \"aggiungi\", \"elenca\", \"vendita\", \"profitti\", \"chiudi\"]\n",
        "\n",
        "  trigger = 1\n",
        "\n",
        "  while trigger:\n",
        "\n",
        "    comando = str.lower(input(\"Inserire comando (aiuto per lista comandi validi):\"))\n",
        "\n",
        "    if comando not in input_validi:\n",
        "      print(\"Comando non valido\")\n",
        "\n",
        "    elif comando == \"aiuto\":\n",
        "      print(\"I comandi disponibili sono i seguenti: \\n\\\n",
        "aggiungi: aggiungi un prodotto al magazzino \\n\\\n",
        "elenca: elenca i prodotto in magazzino \\n\\\n",
        "vendita: registra una vendita effettuata \\n\\\n",
        "profitti: mostra i profitti totali \\n\\\n",
        "aiuto: mostra i possibili comandi \\n\\\n",
        "chiudi: esci dal programma\")\n",
        "\n",
        "    elif comando == \"chiudi\":\n",
        "      trigger = 0\n",
        "\n",
        "    elif comando == \"aggiungi\":\n",
        "      aggiungi(database)\n",
        "\n",
        "    elif comando == \"elenca\":\n",
        "      elenca (database)\n",
        "\n",
        "    elif comando == \"vendita\":\n",
        "      vendita (database)\n",
        "\n",
        "    elif comando == \"profitti\":\n",
        "      profitti (database)\n",
        "\n",
        "    print(\"\\n\")\n",
        "\n",
        "    #Il salvataggio effettuato al termine di ogni ciclo riduce l'efficenza del codice, riducendo di contro la possibilitá di perdita di informazioni a causa di crush\n",
        "    with open(\"/content/drive/MyDrive/Colab Notebooks/Progetto 1/database.json\", \"w+\") \\\n",
        "    as file_dati:\n",
        "      json.dump(database, file_dati, indent=3)\n",
        "  print(\"Bye bye\")\n",
        "\n"
      ],
      "metadata": {
        "id": "lreZQ9xWS4a0"
      },
      "execution_count": 66,
      "outputs": []
    },
    {
      "cell_type": "code",
      "source": [
        "main()"
      ],
      "metadata": {
        "colab": {
          "base_uri": "https://localhost:8080/"
        },
        "id": "Legotyo_UANf",
        "outputId": "1cc54418-c52e-482a-be28-e55aafe3aab1"
      },
      "execution_count": 76,
      "outputs": [
        {
          "output_type": "stream",
          "name": "stdout",
          "text": [
            "Inserire comando (aiuto per lista comandi validi):elenco\n",
            "Comando non valido\n",
            "\n",
            "\n",
            "Inserire comando (aiuto per lista comandi validi):elenca\n",
            "ARTICOLO                      QUANTITÁ       PREZZO         \n",
            "pane                          24             € 1.20           \n",
            "seitan                        25             € 3.50           \n",
            "funghi porcini                32             € 3.20           \n",
            "\n",
            "\n",
            "Inserire comando (aiuto per lista comandi validi):vendita\n",
            "Nome dell'articolo: seitan\n",
            "Quantitá: 5\n",
            "Aggiungere un altro prodotto? [Y/N]: y\n",
            "Nome dell'articolo: funghi porcini\n",
            "Quantitá: 7\n",
            "Aggiungere un altro prodotto? [Y/N]: n\n",
            "VENDITA REGISTRATA\n",
            "- 5 x seitan: € 17.50\n",
            "- 7 x funghi porcini: € 22.40\n",
            "TOTALE: € 39.90\n",
            "\n",
            "\n",
            "Inserire comando (aiuto per lista comandi validi):profitti\n",
            "Profitto: lordo= € 87.6 netto= € 26.4\n",
            "\n",
            "\n",
            "Inserire comando (aiuto per lista comandi validi):chiudi\n",
            "\n",
            "\n",
            "Bye bye\n"
          ]
        }
      ]
    },
    {
      "cell_type": "code",
      "source": [
        "help(vendita)"
      ],
      "metadata": {
        "id": "3lvQhdi1eGi2",
        "colab": {
          "base_uri": "https://localhost:8080/"
        },
        "outputId": "e35e4b58-9758-4725-9abc-66c24883e30a"
      },
      "execution_count": 78,
      "outputs": [
        {
          "output_type": "stream",
          "name": "stdout",
          "text": [
            "Help on function vendita in module __main__:\n",
            "\n",
            "vendita(database)\n",
            "\n"
          ]
        }
      ]
    },
    {
      "cell_type": "code",
      "source": [
        "help(elenca)"
      ],
      "metadata": {
        "colab": {
          "base_uri": "https://localhost:8080/"
        },
        "id": "iH7vcIxpyxNN",
        "outputId": "fa275310-4f4d-4d43-8cd2-6bb3b629f53b"
      },
      "execution_count": 79,
      "outputs": [
        {
          "output_type": "stream",
          "name": "stdout",
          "text": [
            "Help on function elenca in module __main__:\n",
            "\n",
            "elenca(database)\n",
            "    Questa funzione permette la visualizzazione di tutte le voci presenti\n",
            "    in magazzino.\n",
            "    La funzione opera iterando sulle chiavi presenti in database[\"magazzino\"].\n",
            "    Per ogniuna viene stampato nome articolo, quantitá e prezzo di vendita.\n",
            "\n"
          ]
        }
      ]
    },
    {
      "cell_type": "code",
      "source": [],
      "metadata": {
        "id": "R3rRKdjPy1_s"
      },
      "execution_count": null,
      "outputs": []
    }
  ]
}